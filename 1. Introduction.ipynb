{
 "cells": [
  {
   "cell_type": "markdown",
   "metadata": {},
   "source": [
    "# Introduction\n",
    "Python is a friendly and much loved programming languauge. Its usage is not limited to data analytics alone, rather can be explictly used in Web and App development. \n",
    "Python is made up of so many libraries which we will come across some of them, but not limited to. They are:\n",
    "\n",
    "__Pandas__: This is used for importing .xlsx files and also helps in arranging or manipulating your data set.\n",
    "__NumPy__: This is a very used library that works in hand with Pandas. It permits arrays just as we have in matrix and it is used for advanced numerical analysis. \n",
    "Others are; \n",
    "\n",
    "__SciPy__: For analysis of scientific data \n",
    "__Statsmodels__: For statistical analysis  \n",
    "__ggplot, matplotlib, seaborn__: For plots and data visualizations.\n",
    "\n",
    "If you have __Anaconda__ installed on your PC, you can easily use the Anaconda Command Prompt, to install every of them. For each, use your broswer to find the command statement for their installations. It might look like this:\n",
    "__conda__ install numPy.\n",
    "\n",
    "On the other hand, as an alternative, you can download __get-pip__. Then open your computer's command prompt. You will now be commanding pip not conda.\n",
    "Browse how to install either of  the libraries, with __pip__, so that you can get the right command line. These are very useful because you will be coming across some  of these libraries as you grow. I'd advise you do not install them now until you come in need of them, so that you can understand their various importance by then. Just get anaconda or get-pip into your system then you are secured anytime.\n",
    "\n",
    "Please note that the files in this repo will be based more on codes rather than theories; but every code will be properly explained to give the best understanding. All the files here are made with the Jupyter Notebook on a Windows system.\n",
    "\n",
    "Now let's get into the basics:\n",
    "To run every code, use the keyboard short cut: __Shift+Enter__. if you do not wish to have a new cell beneath the cell you just ran, then use __Control+Enter__\n",
    "\n",
    "There are times you'd wish to drop some notes while coding as I am doing now, simply press __Esc+M__. This creates a cell for wirting texts not codes anymore. Once you done typing, simply run it too. None the less, you can make some brief description of your code in the same cell as your code. Simply press the hashtag before typing.\n",
    "\n",
    "For more on this, visit the keyboard shortcut icon in your notebook.\n"
   ]
  },
  {
   "cell_type": "code",
   "execution_count": null,
   "metadata": {},
   "outputs": [],
   "source": []
  }
 ],
 "metadata": {
  "kernelspec": {
   "display_name": "Python 3",
   "language": "python",
   "name": "python3"
  },
  "language_info": {
   "codemirror_mode": {
    "name": "ipython",
    "version": 3
   },
   "file_extension": ".py",
   "mimetype": "text/x-python",
   "name": "python",
   "nbconvert_exporter": "python",
   "pygments_lexer": "ipython3",
   "version": "3.7.3"
  }
 },
 "nbformat": 4,
 "nbformat_minor": 2
}
