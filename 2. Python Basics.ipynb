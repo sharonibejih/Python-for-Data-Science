{
 "cells": [
  {
   "cell_type": "markdown",
   "metadata": {},
   "source": [
    "## Python Basics"
   ]
  },
  {
   "cell_type": "markdown",
   "metadata": {},
   "source": [
    "A data is an unprocessed information. It could come in form of numbers(int, float) or texts or any other form. All these are __data types__.\n",
    "In Python, numbers could be in the form of __integers__  or __floats__. Integers are whole numbers e.g 3, 4, while floats are numbers with decimals, be it 16.0, it is a float. It also permits words, sentences or multi-line texts. Either of these are called __Strings__. When writing a String, always place it in between a single or doble quotation. In same way, when you treat digits or numbers like that too Python will as well address them as Strings. \n"
   ]
  },
  {
   "cell_type": "code",
   "execution_count": 1,
   "metadata": {},
   "outputs": [
    {
     "name": "stdout",
     "output_type": "stream",
     "text": [
      "Sharon\n"
     ]
    }
   ],
   "source": [
    "# Sharon is a string.\n",
    "# Name is a variable and as you grow, it may be termed Object.\n",
    "\n",
    "Name = 'Sharon'\n",
    "print(name)"
   ]
  },
  {
   "cell_type": "code",
   "execution_count": 3,
   "metadata": {},
   "outputs": [
    {
     "name": "stdout",
     "output_type": "stream",
     "text": [
      "9\n"
     ]
    }
   ],
   "source": [
    "# This is an Integer\n",
    "\n",
    "number = (24)\n",
    "print(number)"
   ]
  },
  {
   "cell_type": "code",
   "execution_count": 4,
   "metadata": {},
   "outputs": [
    {
     "data": {
      "text/plain": [
       "int"
      ]
     },
     "execution_count": 4,
     "metadata": {},
     "output_type": "execute_result"
    }
   ],
   "source": [
    "# How to check for the type of a variable/object:\n",
    "\n",
    "type(number)"
   ]
  },
  {
   "cell_type": "code",
   "execution_count": 5,
   "metadata": {},
   "outputs": [
    {
     "data": {
      "text/plain": [
       "str"
      ]
     },
     "execution_count": 5,
     "metadata": {},
     "output_type": "execute_result"
    }
   ],
   "source": [
    "type(name)"
   ]
  },
  {
   "cell_type": "code",
   "execution_count": 2,
   "metadata": {},
   "outputs": [
    {
     "name": "stdout",
     "output_type": "stream",
     "text": [
      "19.8\n"
     ]
    }
   ],
   "source": [
    "result = 19.8\n",
    "print(result)"
   ]
  },
  {
   "cell_type": "markdown",
   "metadata": {},
   "source": [
    "Aside the three data types stated above, there are more to them. \n",
    "We have the __list__, __tuple__, __dictionary__, __set__, __Boolean__, etc.\n",
    "\n",
    "A list is used to show a set of items. Just like a list of books. It permits all data types. It is written inside a square bracket. For example: ['string', int, float, 'string', float]. A good thing about this is after running your list, you can easily edit it on another cell, anytime.\n",
    "\n",
    "A Tuple is just like a list rather it's components are placed in between a parenthesis (). Unlike lists, it is not editable i.e it is immutable. A tuple uses lesser memory to store same data a List would store. \n",
    "\n",
    "A Dictionary is allows us assign content to its components. So that when ever those components are referred to, they give out informatiion relating to their contents. It lies in between a curly bracket. For example: {'Church': 'St. Joseph's Anglican Church', 'Address': 'No. 18B, First House Avenue' 'Contact No.': '(+234)81345561'}. Dictionaries are also editable like Lists.\n",
    "\n",
    "A Boolean comes in when questions like True/False, Yes/No, >/<, comes in.\n",
    "\n",
    "We will see some clearer examples below."
   ]
  },
  {
   "cell_type": "code",
   "execution_count": 3,
   "metadata": {},
   "outputs": [
    {
     "name": "stdout",
     "output_type": "stream",
     "text": [
      "['Jade', 'Ike', 'Sommie', 13, 11, 9]\n"
     ]
    }
   ],
   "source": [
    "# This is a list. We will try editing it later.\n",
    "my_kids = ['Jade', 'Ike', 'Sommie', 13, 11, 9]\n",
    "print(my_kids)"
   ]
  },
  {
   "cell_type": "code",
   "execution_count": 4,
   "metadata": {},
   "outputs": [
    {
     "name": "stdout",
     "output_type": "stream",
     "text": [
      "Jade\n"
     ]
    }
   ],
   "source": [
    "print(my_kids[0])"
   ]
  },
  {
   "cell_type": "code",
   "execution_count": 15,
   "metadata": {},
   "outputs": [
    {
     "data": {
      "text/plain": [
       "25"
      ]
     },
     "execution_count": 15,
     "metadata": {},
     "output_type": "execute_result"
    }
   ],
   "source": [
    "5*5"
   ]
  },
  {
   "cell_type": "code",
   "execution_count": 16,
   "metadata": {},
   "outputs": [
    {
     "name": "stdout",
     "output_type": "stream",
     "text": [
      "11\n"
     ]
    }
   ],
   "source": [
    "x = 5\n",
    "y = 6\n",
    "z = x + y\n",
    "print (z)"
   ]
  },
  {
   "cell_type": "code",
   "execution_count": 5,
   "metadata": {},
   "outputs": [],
   "source": [
    "# Referring back to my_kids for edition:\n",
    "\n",
    "my_kids[1]= 'Believe'"
   ]
  },
  {
   "cell_type": "code",
   "execution_count": 6,
   "metadata": {},
   "outputs": [
    {
     "name": "stdout",
     "output_type": "stream",
     "text": [
      "['Jade', 'Believe', 'Sommie', 13, 11, 9]\n"
     ]
    }
   ],
   "source": [
    "print(my_kids)"
   ]
  },
  {
   "cell_type": "markdown",
   "metadata": {},
   "source": [
    "We can observe the change in name. An ovious question is why Believe took the second item and not the first as i commanded my_kids[1]. This is because Lists operate with __indexes__. The index begins with 0 and counts to the last number. So therefore, the program was right, allocating Believe to the second item because it bears the index of 1."
   ]
  },
  {
   "cell_type": "code",
   "execution_count": 7,
   "metadata": {},
   "outputs": [
    {
     "name": "stdout",
     "output_type": "stream",
     "text": [
      "['Jade', 'Believe', 'Sommie', 13]\n"
     ]
    }
   ],
   "source": [
    "print(my_kids[0:4]) \n",
    "#This implies i want to see items from index 0 to index 3  "
   ]
  },
  {
   "cell_type": "code",
   "execution_count": 8,
   "metadata": {},
   "outputs": [
    {
     "name": "stdout",
     "output_type": "stream",
     "text": [
      "['Believe', 'Sommie', 13, 11]\n"
     ]
    }
   ],
   "source": [
    "print(my_kids[1:5])\n",
    "# Lists counts from the first and stops before the last, so we'll see index 1-4"
   ]
  },
  {
   "cell_type": "code",
   "execution_count": 9,
   "metadata": {},
   "outputs": [
    {
     "data": {
      "text/plain": [
       "['Jade', 'Believe', 'Sommie', 13, 11, 9, 'James', 15]"
      ]
     },
     "execution_count": 9,
     "metadata": {},
     "output_type": "execute_result"
    }
   ],
   "source": [
    "# We can also add more items this way:\n",
    "my_kids + ['James', 15]"
   ]
  },
  {
   "cell_type": "code",
   "execution_count": 1,
   "metadata": {},
   "outputs": [
    {
     "name": "stdout",
     "output_type": "stream",
     "text": [
      "adetolabello\n"
     ]
    }
   ],
   "source": [
    "firstname= 'adetola'\n",
    "lastname= 'bello'\n",
    "fullname= firstname+lastname\n",
    "print(fullname)"
   ]
  },
  {
   "cell_type": "code",
   "execution_count": 1,
   "metadata": {},
   "outputs": [
    {
     "name": "stdout",
     "output_type": "stream",
     "text": [
      "adetola bello\n"
     ]
    }
   ],
   "source": [
    "# Observe the space between adetola and the closing quotation:\n",
    "firstname= 'adetola '    \n",
    "lastname= 'bello'\n",
    "fullname= firstname+lastname\n",
    "print(fullname)"
   ]
  },
  {
   "cell_type": "code",
   "execution_count": 27,
   "metadata": {},
   "outputs": [
    {
     "name": "stdout",
     "output_type": "stream",
     "text": [
      "adetolaadetolaadetola\n"
     ]
    }
   ],
   "source": [
    "firstname= 'adetola'\n",
    "lastname= 3\n",
    "fullname= firstname * lastname\n",
    "print(fullname)"
   ]
  },
  {
   "cell_type": "code",
   "execution_count": 26,
   "metadata": {},
   "outputs": [
    {
     "name": "stdout",
     "output_type": "stream",
     "text": [
      "adetola adetola adetola \n"
     ]
    }
   ],
   "source": [
    "firstname= 'adetola '\n",
    "lastname= 3\n",
    "fullname= firstname * lastname\n",
    "print(fullname)"
   ]
  },
  {
   "cell_type": "code",
   "execution_count": 5,
   "metadata": {},
   "outputs": [],
   "source": [
    "# Tuples\n",
    "my_kids = ('Jade', 'Ike', 'Sommie', 13, 11, 9)                     "
   ]
  },
  {
   "cell_type": "code",
   "execution_count": 6,
   "metadata": {},
   "outputs": [
    {
     "data": {
      "text/plain": [
       "tuple"
      ]
     },
     "execution_count": 6,
     "metadata": {},
     "output_type": "execute_result"
    }
   ],
   "source": [
    "type(my_kids)"
   ]
  },
  {
   "cell_type": "code",
   "execution_count": 8,
   "metadata": {},
   "outputs": [
    {
     "ename": "TypeError",
     "evalue": "'tuple' object is not callable",
     "output_type": "error",
     "traceback": [
      "\u001b[1;31m---------------------------------------------------------------------------\u001b[0m",
      "\u001b[1;31mTypeError\u001b[0m                                 Traceback (most recent call last)",
      "\u001b[1;32m<ipython-input-8-a4d8a9fd54bd>\u001b[0m in \u001b[0;36m<module>\u001b[1;34m\u001b[0m\n\u001b[0;32m      1\u001b[0m \u001b[1;31m# Observe the error that will occur now because tuple is immutable\u001b[0m\u001b[1;33m\u001b[0m\u001b[1;33m\u001b[0m\u001b[1;33m\u001b[0m\u001b[0m\n\u001b[1;32m----> 2\u001b[1;33m \u001b[0mmy_kids\u001b[0m\u001b[1;33m(\u001b[0m\u001b[1;36m0\u001b[0m\u001b[1;33m)\u001b[0m\u001b[1;33m\u001b[0m\u001b[1;33m\u001b[0m\u001b[0m\n\u001b[0m",
      "\u001b[1;31mTypeError\u001b[0m: 'tuple' object is not callable"
     ]
    }
   ],
   "source": [
    "# Observe the errors that will occur now because tuple is immutable\n",
    "\n",
    "my_kids(0)"
   ]
  },
  {
   "cell_type": "code",
   "execution_count": 9,
   "metadata": {},
   "outputs": [
    {
     "ename": "SyntaxError",
     "evalue": "can't assign to function call (<ipython-input-9-30a6d0ed9ca2>, line 1)",
     "output_type": "error",
     "traceback": [
      "\u001b[1;36m  File \u001b[1;32m\"<ipython-input-9-30a6d0ed9ca2>\"\u001b[1;36m, line \u001b[1;32m1\u001b[0m\n\u001b[1;33m    my_kids(1)= 'Believe'\u001b[0m\n\u001b[1;37m                         ^\u001b[0m\n\u001b[1;31mSyntaxError\u001b[0m\u001b[1;31m:\u001b[0m can't assign to function call\n"
     ]
    }
   ],
   "source": [
    "my_kids(1)= 'Believe'"
   ]
  },
  {
   "cell_type": "code",
   "execution_count": 7,
   "metadata": {},
   "outputs": [
    {
     "data": {
      "text/plain": [
       "('Jade', 'Ike', 'Sommie', 13, 11, 9, 'James', 15)"
      ]
     },
     "execution_count": 7,
     "metadata": {},
     "output_type": "execute_result"
    }
   ],
   "source": [
    "# But this can work:\n",
    "my_kids + ('James', 15)"
   ]
  }
 ],
 "metadata": {
  "kernelspec": {
   "display_name": "Python 3",
   "language": "python",
   "name": "python3"
  },
  "language_info": {
   "codemirror_mode": {
    "name": "ipython",
    "version": 3
   },
   "file_extension": ".py",
   "mimetype": "text/x-python",
   "name": "python",
   "nbconvert_exporter": "python",
   "pygments_lexer": "ipython3",
   "version": "3.7.3"
  }
 },
 "nbformat": 4,
 "nbformat_minor": 2
}
